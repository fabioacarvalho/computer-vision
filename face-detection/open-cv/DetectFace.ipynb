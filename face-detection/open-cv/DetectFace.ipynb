{
 "cells": [
  {
   "cell_type": "code",
   "execution_count": 1,
   "id": "f218986a-46b3-4336-8067-a9f43b4ff36f",
   "metadata": {},
   "outputs": [
    {
     "name": "stdout",
     "output_type": "stream",
     "text": [
      "Collecting opencv-python\n",
      "  Downloading opencv_python-4.11.0.86-cp37-abi3-win_amd64.whl.metadata (20 kB)\n",
      "Requirement already satisfied: numpy>=1.21.2 in c:\\users\\fabioacarvalho\\anaconda3\\lib\\site-packages (from opencv-python) (1.26.4)\n",
      "Downloading opencv_python-4.11.0.86-cp37-abi3-win_amd64.whl (39.5 MB)\n",
      "   ---------------------------------------- 0.0/39.5 MB ? eta -:--:--\n",
      "   -- ------------------------------------- 2.4/39.5 MB 16.8 MB/s eta 0:00:03\n",
      "   ---------- ----------------------------- 10.0/39.5 MB 28.2 MB/s eta 0:00:02\n",
      "   ----------------- ---------------------- 17.0/39.5 MB 30.7 MB/s eta 0:00:01\n",
      "   ---------------------------- ----------- 28.3/39.5 MB 36.6 MB/s eta 0:00:01\n",
      "   ---------------------------------------  39.3/39.5 MB 41.0 MB/s eta 0:00:01\n",
      "   ---------------------------------------- 39.5/39.5 MB 38.6 MB/s eta 0:00:00\n",
      "Installing collected packages: opencv-python\n",
      "Successfully installed opencv-python-4.11.0.86\n"
     ]
    }
   ],
   "source": [
    "!pip install opencv-python"
   ]
  },
  {
   "cell_type": "code",
   "execution_count": 3,
   "id": "5a7f8f9e-d083-4413-824c-1ef56e3b249f",
   "metadata": {},
   "outputs": [],
   "source": [
    "import cv2\n",
    "from skimage import io, color\n",
    "from IPython.display import Image\n",
    "import os"
   ]
  },
  {
   "cell_type": "code",
   "execution_count": 11,
   "id": "0ec46b9e-a4b7-41ee-b43f-97537ca06b44",
   "metadata": {},
   "outputs": [],
   "source": [
    "Image(url = \"imagens/faces.jpg\")"
   ]
  },
  {
   "cell_type": "code",
   "execution_count": 17,
   "id": "641856b7-794a-49e1-9b1b-79230a5a4970",
   "metadata": {},
   "outputs": [],
   "source": [
    "img_face1 = io.imread(\"imagens/faces.jpg\")\n",
    "# io.imshow(img_face1)\n",
    "# io.show()"
   ]
  },
  {
   "cell_type": "code",
   "execution_count": 9,
   "id": "90cb189d-86e3-4327-9028-fada8ab428d1",
   "metadata": {},
   "outputs": [
    {
     "data": {
      "text/plain": [
       "(630, 1000, 3)"
      ]
     },
     "execution_count": 9,
     "metadata": {},
     "output_type": "execute_result"
    }
   ],
   "source": [
    "img_face1.shape"
   ]
  },
  {
   "cell_type": "code",
   "execution_count": 21,
   "id": "1ac82168-40f5-4f5d-8e3f-c6624e9935b3",
   "metadata": {},
   "outputs": [
    {
     "data": {
      "text/plain": [
       "(630, 1000)"
      ]
     },
     "execution_count": 21,
     "metadata": {},
     "output_type": "execute_result"
    }
   ],
   "source": [
    "img_face1_gray = color.rgb2gray(img_face1)\n",
    "img_face1_gray.shape"
   ]
  },
  {
   "cell_type": "code",
   "execution_count": 29,
   "id": "7a39430b-08e2-432f-9819-02cec04d7d26",
   "metadata": {},
   "outputs": [],
   "source": [
    "img_face1_gray_cv = cv2.cvtColor(img_face1, cv2.COLOR_BGR2GRAY)"
   ]
  },
  {
   "cell_type": "code",
   "execution_count": 23,
   "id": "4c5d405a-3b11-4561-bcc0-2636febe5701",
   "metadata": {},
   "outputs": [],
   "source": [
    "face_param = \"Cascade/frontalface_alt.xml\"\n",
    "classificador_cascade = cv2.CascadeClassifier(face_param)"
   ]
  },
  {
   "cell_type": "code",
   "execution_count": 25,
   "id": "d16adde7-b5aa-42ac-9efc-6ce7eacc10be",
   "metadata": {},
   "outputs": [
    {
     "data": {
      "text/plain": [
       "< cv2.CascadeClassifier 0000020273DE7E10>"
      ]
     },
     "execution_count": 25,
     "metadata": {},
     "output_type": "execute_result"
    }
   ],
   "source": [
    "classificador_cascade"
   ]
  },
  {
   "cell_type": "code",
   "execution_count": 111,
   "id": "ac85eae4-9709-40b8-8340-2330f53c1ad6",
   "metadata": {},
   "outputs": [],
   "source": [
    "faces = classificador_cascade.detectMultiScale(img_face1_gray_cv, scaleFactor=1.1, minNeighbors=15 )"
   ]
  },
  {
   "cell_type": "code",
   "execution_count": 113,
   "id": "238483ad-94be-49e7-9d53-24bad6f0ebc2",
   "metadata": {},
   "outputs": [
    {
     "data": {
      "text/plain": [
       "array([[680,  78,  48,  48],\n",
       "       [847, 135,  50,  50],\n",
       "       [ 61,  67,  51,  51],\n",
       "       [520, 112,  48,  48],\n",
       "       [594, 115,  49,  49],\n",
       "       [176, 120,  49,  49],\n",
       "       [560, 373,  51,  51],\n",
       "       [640, 380,  46,  46],\n",
       "       [801, 110,  48,  48],\n",
       "       [759, 357,  52,  52],\n",
       "       [411,  98,  49,  49],\n",
       "       [ 99, 340,  53,  53],\n",
       "       [312,  24,  50,  50],\n",
       "       [848,  25,  50,  50],\n",
       "       [884, 373,  53,  53],\n",
       "       [389, 381,  51,  51],\n",
       "       [305, 360,  57,  57],\n",
       "       [293, 107,  47,  47],\n",
       "       [377,  36,  48,  48],\n",
       "       [543,  45,  44,  44],\n",
       "       [158,  48,  46,  46],\n",
       "       [226,  50,  48,  48]])"
      ]
     },
     "execution_count": 113,
     "metadata": {},
     "output_type": "execute_result"
    }
   ],
   "source": [
    "faces"
   ]
  },
  {
   "cell_type": "code",
   "execution_count": 115,
   "id": "49185001-2096-491b-9f90-a800edd4ffd2",
   "metadata": {},
   "outputs": [],
   "source": [
    "img_face1_cv = cv2.imread(\"Imagens/faces.jpg\")\n",
    "for (x, y, width, height) in faces:\n",
    "    cv2.rectangle(img_face1_cv, (x, y), (x + width, y + height), (0, 255, 0), 3)"
   ]
  },
  {
   "cell_type": "code",
   "execution_count": 117,
   "id": "12c62894-a903-4a99-933f-1ebf41222068",
   "metadata": {},
   "outputs": [
    {
     "data": {
      "text/plain": [
       "True"
      ]
     },
     "execution_count": 117,
     "metadata": {},
     "output_type": "execute_result"
    }
   ],
   "source": [
    "cv2.imwrite(\"Imagens/faces_result.jpg\", img_face1_cv)"
   ]
  },
  {
   "cell_type": "code",
   "execution_count": 119,
   "id": "9078756c-4e3b-48a7-8b9f-ad61022c1a4a",
   "metadata": {},
   "outputs": [
    {
     "data": {
      "text/html": [
       "<img src=\"Imagens/faces_result.jpg\"/>"
      ],
      "text/plain": [
       "<IPython.core.display.Image object>"
      ]
     },
     "execution_count": 119,
     "metadata": {},
     "output_type": "execute_result"
    }
   ],
   "source": [
    "Image(url = \"Imagens/faces_result.jpg\")"
   ]
  },
  {
   "cell_type": "code",
   "execution_count": null,
   "id": "6c7e6c32-6ae1-47e9-b207-bffedc218285",
   "metadata": {},
   "outputs": [],
   "source": []
  }
 ],
 "metadata": {
  "kernelspec": {
   "display_name": "Python [conda env:base] *",
   "language": "python",
   "name": "conda-base-py"
  },
  "language_info": {
   "codemirror_mode": {
    "name": "ipython",
    "version": 3
   },
   "file_extension": ".py",
   "mimetype": "text/x-python",
   "name": "python",
   "nbconvert_exporter": "python",
   "pygments_lexer": "ipython3",
   "version": "3.12.7"
  }
 },
 "nbformat": 4,
 "nbformat_minor": 5
}
