{
 "cells": [
  {
   "cell_type": "code",
   "execution_count": null,
   "id": "e837eff6-e08b-4822-9b42-e6d4e35353c8",
   "metadata": {},
   "outputs": [],
   "source": [
    "import face_recognition\n",
    "import PIL.Image\n",
    "import PIL.ImageDraw"
   ]
  },
  {
   "cell_type": "code",
   "execution_count": null,
   "id": "22a4471b-325b-49e1-8fbb-0cda935babc4",
   "metadata": {},
   "outputs": [],
   "source": [
    "img = face_recognition.load_image_file(\"Imagens/faces.jpg\")"
   ]
  },
  {
   "cell_type": "code",
   "execution_count": null,
   "id": "773fbe20-28ea-46b2-87c4-780c1028abe4",
   "metadata": {},
   "outputs": [],
   "source": [
    "faces_encontradas = face_recognition.face_locations(img)"
   ]
  },
  {
   "cell_type": "code",
   "execution_count": null,
   "id": "2d85b1d3-a53b-4a56-b59e-c97b01d24bfb",
   "metadata": {},
   "outputs": [],
   "source": [
    "len(faces_encontradas)"
   ]
  },
  {
   "cell_type": "code",
   "execution_count": null,
   "id": "20e65f22-6e56-434f-8458-8a32e1889515",
   "metadata": {},
   "outputs": [],
   "source": [
    "image_array = PIL.Image.fromarray(img)\n",
    "for face in faces_encontradas:\n",
    "    top, left, bottom, right = face\n",
    "    draw = PIL.ImageDraw.Draw(image_array)\n",
    "    draw.rectangle([left, top, right, bottom], outline=\"green\", width=10)"
   ]
  },
  {
   "cell_type": "code",
   "execution_count": null,
   "id": "7c9dbc88-1da3-4dd9-8f92-e95764090bce",
   "metadata": {},
   "outputs": [],
   "source": [
    "display(image_array)"
   ]
  }
 ],
 "metadata": {
  "kernelspec": {
   "display_name": "Python [conda env:base] *",
   "language": "python",
   "name": "conda-base-py"
  },
  "language_info": {
   "codemirror_mode": {
    "name": "ipython",
    "version": 3
   },
   "file_extension": ".py",
   "mimetype": "text/x-python",
   "name": "python",
   "nbconvert_exporter": "python",
   "pygments_lexer": "ipython3",
   "version": "3.12.7"
  }
 },
 "nbformat": 4,
 "nbformat_minor": 5
}
