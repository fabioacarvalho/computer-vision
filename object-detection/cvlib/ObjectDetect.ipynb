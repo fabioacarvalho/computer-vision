{
 "cells": [
  {
   "cell_type": "code",
   "execution_count": 13,
   "id": "2c7f04c6-b0dd-4b19-a795-f5d6e9d030a7",
   "metadata": {},
   "outputs": [
    {
     "name": "stdout",
     "output_type": "stream",
     "text": [
      "Requirement already satisfied: opencv-python in c:\\users\\fabioacarvalho\\anaconda3\\lib\\site-packages (4.11.0.86)\n",
      "Requirement already satisfied: cvlib in c:\\users\\fabioacarvalho\\anaconda3\\lib\\site-packages (0.2.7)\n",
      "Requirement already satisfied: numpy>=1.21.2 in c:\\users\\fabioacarvalho\\anaconda3\\lib\\site-packages (from opencv-python) (1.26.4)\n",
      "Requirement already satisfied: progressbar in c:\\users\\fabioacarvalho\\anaconda3\\lib\\site-packages (from cvlib) (2.5)\n",
      "Requirement already satisfied: requests in c:\\users\\fabioacarvalho\\anaconda3\\lib\\site-packages (from cvlib) (2.32.3)\n",
      "Requirement already satisfied: pillow in c:\\users\\fabioacarvalho\\anaconda3\\lib\\site-packages (from cvlib) (10.4.0)\n",
      "Requirement already satisfied: imageio in c:\\users\\fabioacarvalho\\anaconda3\\lib\\site-packages (from cvlib) (2.33.1)\n",
      "Requirement already satisfied: imutils in c:\\users\\fabioacarvalho\\anaconda3\\lib\\site-packages (from cvlib) (0.5.4)\n",
      "Requirement already satisfied: charset-normalizer<4,>=2 in c:\\users\\fabioacarvalho\\anaconda3\\lib\\site-packages (from requests->cvlib) (3.3.2)\n",
      "Requirement already satisfied: idna<4,>=2.5 in c:\\users\\fabioacarvalho\\anaconda3\\lib\\site-packages (from requests->cvlib) (3.7)\n",
      "Requirement already satisfied: urllib3<3,>=1.21.1 in c:\\users\\fabioacarvalho\\anaconda3\\lib\\site-packages (from requests->cvlib) (2.2.3)\n",
      "Requirement already satisfied: certifi>=2017.4.17 in c:\\users\\fabioacarvalho\\anaconda3\\lib\\site-packages (from requests->cvlib) (2025.1.31)\n"
     ]
    }
   ],
   "source": [
    "!pip install --upgrade opencv-python cvlib"
   ]
  },
  {
   "cell_type": "code",
   "execution_count": 31,
   "id": "70719dd7-3350-4d73-8aa7-212973516dae",
   "metadata": {},
   "outputs": [],
   "source": [
    "import cv2\n",
    "import cvlib as cv\n",
    "from cvlib.object_detection import draw_bbox"
   ]
  },
  {
   "cell_type": "code",
   "execution_count": 37,
   "id": "7a78a419-3f46-42f1-a25e-f1344971eac2",
   "metadata": {},
   "outputs": [
    {
     "name": "stdout",
     "output_type": "stream",
     "text": [
      "[[199 199 199 ... 159 196 207]\n",
      " [199 199 199 ... 164 200 210]\n",
      " [199 199 199 ... 168 201 206]\n",
      " ...\n",
      " [ 34  40  47 ...  19  18  18]\n",
      " [ 49  56  64 ...  19  19  19]\n",
      " [ 60  67  76 ...  19  19  19]]\n"
     ]
    }
   ],
   "source": [
    "# Load the image\n",
    "img = cv2.imread('img/image1.jpg')\n",
    "img_gray = cv2.cvtColor(img, cv2.COLOR_BGR2GRAY)\n",
    "print(img_gray)"
   ]
  },
  {
   "cell_type": "code",
   "execution_count": 33,
   "id": "92c0b1c6-621a-4fad-942e-f5b5d1d17ecd",
   "metadata": {},
   "outputs": [
    {
     "ename": "error",
     "evalue": "OpenCV(4.11.0) D:\\a\\opencv-python\\opencv-python\\opencv\\modules\\imgproc\\src\\color.cpp:199: error: (-215:Assertion failed) !_src.empty() in function 'cv::cvtColor'\n",
     "output_type": "error",
     "traceback": [
      "\u001b[1;31m---------------------------------------------------------------------------\u001b[0m",
      "\u001b[1;31merror\u001b[0m                                     Traceback (most recent call last)",
      "Cell \u001b[1;32mIn[33], line 3\u001b[0m\n\u001b[0;32m      1\u001b[0m \u001b[38;5;66;03m# Load the image\u001b[39;00m\n\u001b[0;32m      2\u001b[0m img \u001b[38;5;241m=\u001b[39m cv2\u001b[38;5;241m.\u001b[39mimread(\u001b[38;5;124m'\u001b[39m\u001b[38;5;124mpath_to_your_image.jpg\u001b[39m\u001b[38;5;124m'\u001b[39m)\n\u001b[1;32m----> 3\u001b[0m img_gray \u001b[38;5;241m=\u001b[39m cv2\u001b[38;5;241m.\u001b[39mcvtColor(img, cv2\u001b[38;5;241m.\u001b[39mCOLOR_BGR2GRAY)\n\u001b[0;32m      4\u001b[0m \u001b[38;5;28mprint\u001b[39m(img_gray)\n\u001b[0;32m      6\u001b[0m \u001b[38;5;66;03m# Check paths (assuming you have access to the paths in the cvlib module)\u001b[39;00m\n",
      "\u001b[1;31merror\u001b[0m: OpenCV(4.11.0) D:\\a\\opencv-python\\opencv-python\\opencv\\modules\\imgproc\\src\\color.cpp:199: error: (-215:Assertion failed) !_src.empty() in function 'cv::cvtColor'\n"
     ]
    }
   ],
   "source": [
    "# Check paths (assuming you have access to the paths in the cvlib module)\n",
    "print(\"Weights file path:\", cv.object_detection.weights_file_abs_path)\n",
    "print(\"Config file path:\", cv.object_detection.config_file_abs_path)"
   ]
  },
  {
   "cell_type": "code",
   "execution_count": null,
   "id": "b5dbe642-bd0f-4220-a15e-b67a17ee2ce3",
   "metadata": {},
   "outputs": [],
   "source": [
    "# Try detecting objects with GPU disabled\n",
    "bbox, label, conf = cv.detect_common_objects(img_gray, enable_gpu=False)\n",
    "\n",
    "# Drawing bounding box over detected objects on the original image\n",
    "out = draw_bbox(img, bbox, label, conf)\n",
    "\n",
    "# Display the output\n",
    "cv2.imshow(\"Output\", out)\n",
    "cv2.waitKey(0)\n",
    "cv2.destroyAllWindows()"
   ]
  }
 ],
 "metadata": {
  "kernelspec": {
   "display_name": "Python [conda env:base] *",
   "language": "python",
   "name": "conda-base-py"
  },
  "language_info": {
   "codemirror_mode": {
    "name": "ipython",
    "version": 3
   },
   "file_extension": ".py",
   "mimetype": "text/x-python",
   "name": "python",
   "nbconvert_exporter": "python",
   "pygments_lexer": "ipython3",
   "version": "3.12.7"
  }
 },
 "nbformat": 4,
 "nbformat_minor": 5
}
